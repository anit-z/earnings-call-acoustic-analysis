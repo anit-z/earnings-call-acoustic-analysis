{
 "cells": [
  {
   "cell_type": "markdown",
   "metadata": {},
   "source": [
    "# Initial Exploration - Earnings Call Acoustic Analysis\\n",
    "This notebook explores the Earnings-21 dataset structure."
   ]
  },
  {
   "cell_type": "code",
   "execution_count": null,
   "metadata": {},
   "outputs": [],
   "source": [
    "import sys\\n",
    "from pathlib import Path\\n",
    "sys.path.append(str(Path.cwd().parent.parent))\\n",
    "\\n",
    "from config.config import *\\n",
    "import pandas as pd\\n",
    "import numpy as np"
   ]
  }
 ],
 "metadata": {
  "kernelspec": {
   "display_name": "Python 3",
   "language": "python",
   "name": "python3"
  }
 },
 "nbformat": 4,
 "nbformat_minor": 4
}
